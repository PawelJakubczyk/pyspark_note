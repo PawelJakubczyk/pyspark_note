{
  "nbformat": 4,
  "nbformat_minor": 0,
  "metadata": {
    "colab": {
      "provenance": [],
      "authorship_tag": "ABX9TyMAk4VnPGd7m/ppeZU9FZIj",
      "include_colab_link": true
    },
    "kernelspec": {
      "name": "python3",
      "display_name": "Python 3"
    },
    "language_info": {
      "name": "python"
    }
  },
  "cells": [
    {
      "cell_type": "markdown",
      "metadata": {
        "id": "view-in-github",
        "colab_type": "text"
      },
      "source": [
        "<a href=\"https://colab.research.google.com/github/PawelJakubczyk/pyspark_note/blob/main/pyspark_crud_read.ipynb\" target=\"_parent\"><img src=\"https://colab.research.google.com/assets/colab-badge.svg\" alt=\"Open In Colab\"/></a>"
      ]
    },
    {
      "cell_type": "markdown",
      "source": [
        "## Install Liblary"
      ],
      "metadata": {
        "id": "06oTKFoVzL82"
      }
    },
    {
      "cell_type": "code",
      "execution_count": null,
      "metadata": {
        "colab": {
          "base_uri": "https://localhost:8080/"
        },
        "id": "agEi6N02w2Wp",
        "outputId": "c9bcef93-b7b6-4284-d236-a093329991ec"
      },
      "outputs": [
        {
          "output_type": "stream",
          "name": "stdout",
          "text": [
            "Collecting pyspark\n",
            "  Downloading pyspark-3.5.0.tar.gz (316.9 MB)\n",
            "\u001b[2K     \u001b[90m━━━━━━━━━━━━━━━━━━━━━━━━━━━━━━━━━━━━━━━━\u001b[0m \u001b[32m316.9/316.9 MB\u001b[0m \u001b[31m3.6 MB/s\u001b[0m eta \u001b[36m0:00:00\u001b[0m\n",
            "\u001b[?25h  Preparing metadata (setup.py) ... \u001b[?25l\u001b[?25hdone\n",
            "Requirement already satisfied: py4j==0.10.9.7 in /usr/local/lib/python3.10/dist-packages (from pyspark) (0.10.9.7)\n",
            "Building wheels for collected packages: pyspark\n",
            "  Building wheel for pyspark (setup.py) ... \u001b[?25l\u001b[?25hdone\n",
            "  Created wheel for pyspark: filename=pyspark-3.5.0-py2.py3-none-any.whl size=317425345 sha256=e9659495cc8fff9f62c9bf364268978451821482fda509435158e43edeaf6af6\n",
            "  Stored in directory: /root/.cache/pip/wheels/41/4e/10/c2cf2467f71c678cfc8a6b9ac9241e5e44a01940da8fbb17fc\n",
            "Successfully built pyspark\n",
            "Installing collected packages: pyspark\n",
            "Successfully installed pyspark-3.5.0\n"
          ]
        }
      ],
      "source": [
        "%pip install pyspark"
      ]
    },
    {
      "cell_type": "markdown",
      "source": [
        "# Read Pyspark DF"
      ],
      "metadata": {
        "id": "oGjCjimFzO9h"
      }
    },
    {
      "cell_type": "code",
      "source": [
        "import pandas as pd\n",
        "from pyspark.sql import SparkSession\n",
        "from pyspark.sql.types import StructType, StructField, StringType, IntegerType, DateType\n",
        "from datetime import date"
      ],
      "metadata": {
        "id": "7swQ9H_bzObv"
      },
      "execution_count": null,
      "outputs": []
    },
    {
      "cell_type": "markdown",
      "source": [
        "## Start Spark Session"
      ],
      "metadata": {
        "id": "BaAQVb3dz1mF"
      }
    },
    {
      "cell_type": "code",
      "source": [
        "spark = SparkSession.builder \\\n",
        "    .appName(\"Python Spark SQL basic example\") \\\n",
        "    .config(\"spark.some.config.option\", \"some-value\") \\\n",
        "    .getOrCreate()"
      ],
      "metadata": {
        "id": "rF3dyKf5zWTn"
      },
      "execution_count": null,
      "outputs": []
    },
    {
      "cell_type": "markdown",
      "source": [
        "## Define Schema"
      ],
      "metadata": {
        "id": "E4kJie7D1P4E"
      }
    },
    {
      "cell_type": "code",
      "source": [
        "custom_schema = StructType(\n",
        "    [\n",
        "        StructField(\"ID\", StringType(), False),\n",
        "        StructField(\"Subsector\", StringType()),\n",
        "        StructField(\"Category\", StringType()),\n",
        "        StructField(\"Brand\", StringType()),\n",
        "        StructField(\"Material_ID\", IntegerType()),\n",
        "        StructField(\"Description\", StringType()),\n",
        "        StructField(\"Plant_Code\", StringType()),\n",
        "        StructField(\"Plant_Name\", StringType()),\n",
        "        StructField(\"Validity_Date_From\", DateType()),\n",
        "        StructField(\"Validity_Date_To\", DateType()),\n",
        "        StructField(\"Modification_Date\", DateType()),\n",
        "        StructField(\"Market_Value\", IntegerType()),\n",
        "        StructField(\"Status\", StringType()),\n",
        "    ]\n",
        ")"
      ],
      "metadata": {
        "id": "E93YKdEf1WB2"
      },
      "execution_count": null,
      "outputs": []
    },
    {
      "cell_type": "markdown",
      "source": [
        "## Sample Df"
      ],
      "metadata": {
        "id": "fDxi69681WS2"
      }
    },
    {
      "cell_type": "code",
      "source": [
        "# list  of college data with two lists\n",
        "sample_data = [\n",
        "    (\"1\", \"Subsector A\", \"Category X\", \"Brand 1\", 101, \"Description 1\", \"Code 001\", \"Plant 1\", date(2022, 1, 1), date(2022, 12, 31), date(2022, 1, 1), 14124 , \"Active\"),\n",
        "    (\"2\", \"Subsector B\", \"Category Y\", \"Brand 2\", 102, \"Description 2\", \"Code 002\", \"Plant 2\", date(2022, 1, 1), date(2022, 12, 31), date(2022, 1, 1), 12564 , \"Inactive\"),\n",
        "    (\"3\", \"Subsector C\", \"Category Z\", \"Brand 3\", 103, \"Description 3\", \"Code 003\", \"Plant 3\", date(2022, 1, 1), date(2022, 12, 31), date(2022, 1, 1), 57856 , \"Active\"),\n",
        "    (\"4\", \"Subsector A\", \"Category X\", \"Brand 1\", 104, \"Description 4\", \"Code 004\", \"Plant 4\", date(2022, 1, 1), date(2022, 12, 31), date(2022, 1, 1), 13443 , \"Inactive\"),\n",
        "    (\"5\", \"Subsector B\", \"Category Y\", \"Brand 2\", 105, \"Description 5\", \"Code 005\", \"Plant 5\", date(2022, 1, 1), date(2022, 12, 31), date(2022, 1, 1), 76445 , \"Active\")\n",
        "]\n",
        "\n",
        "# creating a dataframe\n",
        "df_sample = spark.createDataFrame(sample_data, schema=custom_schema)"
      ],
      "metadata": {
        "id": "UacKyDwFz3eG"
      },
      "execution_count": null,
      "outputs": []
    },
    {
      "cell_type": "markdown",
      "source": [
        "### Show Data"
      ],
      "metadata": {
        "id": "e503hAvm2ON5"
      }
    },
    {
      "cell_type": "code",
      "source": [
        "df_sample.show()"
      ],
      "metadata": {
        "colab": {
          "base_uri": "https://localhost:8080/"
        },
        "id": "RkfxcEdu2RP2",
        "outputId": "d48b59e4-e215-470d-930b-f0ba06716667"
      },
      "execution_count": null,
      "outputs": [
        {
          "output_type": "stream",
          "name": "stdout",
          "text": [
            "+---+-----------+----------+-------+-----------+-------------+----------+----------+------------------+----------------+-----------------+------------+--------+\n",
            "| ID|  Subsector|  Category|  Brand|Material_ID|  Description|Plant_Code|Plant_Name|Validity_Date_From|Validity_Date_To|Modification_Date|Market_Value|  Status|\n",
            "+---+-----------+----------+-------+-----------+-------------+----------+----------+------------------+----------------+-----------------+------------+--------+\n",
            "|  1|Subsector A|Category X|Brand 1|        101|Description 1|  Code 001|   Plant 1|        2022-01-01|      2022-12-31|       2022-01-01|       14124|  Active|\n",
            "|  2|Subsector B|Category Y|Brand 2|        102|Description 2|  Code 002|   Plant 2|        2022-01-01|      2022-12-31|       2022-01-01|       12564|Inactive|\n",
            "|  3|Subsector C|Category Z|Brand 3|        103|Description 3|  Code 003|   Plant 3|        2022-01-01|      2022-12-31|       2022-01-01|       57856|  Active|\n",
            "|  4|Subsector A|Category X|Brand 1|        104|Description 4|  Code 004|   Plant 4|        2022-01-01|      2022-12-31|       2022-01-01|       13443|Inactive|\n",
            "|  5|Subsector B|Category Y|Brand 2|        105|Description 5|  Code 005|   Plant 5|        2022-01-01|      2022-12-31|       2022-01-01|       76445|  Active|\n",
            "+---+-----------+----------+-------+-----------+-------------+----------+----------+------------------+----------------+-----------------+------------+--------+\n",
            "\n"
          ]
        }
      ]
    },
    {
      "cell_type": "markdown",
      "source": [
        "### Show Data"
      ],
      "metadata": {
        "id": "iQpNhCkW3hTm"
      }
    },
    {
      "cell_type": "code",
      "source": [
        "df_sample.printSchema()"
      ],
      "metadata": {
        "colab": {
          "base_uri": "https://localhost:8080/"
        },
        "id": "kgVyZQHJ2fgR",
        "outputId": "b900996c-6ec7-4266-fc73-4a174bfba345"
      },
      "execution_count": null,
      "outputs": [
        {
          "output_type": "stream",
          "name": "stdout",
          "text": [
            "root\n",
            " |-- ID: string (nullable = false)\n",
            " |-- Subsector: string (nullable = true)\n",
            " |-- Category: string (nullable = true)\n",
            " |-- Brand: string (nullable = true)\n",
            " |-- Material_ID: integer (nullable = true)\n",
            " |-- Description: string (nullable = true)\n",
            " |-- Plant_Code: string (nullable = true)\n",
            " |-- Plant_Name: string (nullable = true)\n",
            " |-- Validity_Date_From: date (nullable = true)\n",
            " |-- Validity_Date_To: date (nullable = true)\n",
            " |-- Modification_Date: date (nullable = true)\n",
            " |-- Market_Value: integer (nullable = true)\n",
            " |-- Status: string (nullable = true)\n",
            "\n"
          ]
        }
      ]
    },
    {
      "cell_type": "code",
      "source": [
        "df_sample.describe().show()"
      ],
      "metadata": {
        "colab": {
          "base_uri": "https://localhost:8080/"
        },
        "id": "DlcToeZC26KQ",
        "outputId": "54502633-a46a-458d-d00a-72ca0a2826f7"
      },
      "execution_count": null,
      "outputs": [
        {
          "output_type": "stream",
          "name": "stdout",
          "text": [
            "+-------+------------------+-----------+----------+-------+------------------+-------------+----------+----------+------------------+--------+\n",
            "|summary|                ID|  Subsector|  Category|  Brand|       Material_ID|  Description|Plant_Code|Plant_Name|      Market_Value|  Status|\n",
            "+-------+------------------+-----------+----------+-------+------------------+-------------+----------+----------+------------------+--------+\n",
            "|  count|                 5|          5|         5|      5|                 5|            5|         5|         5|                 5|       5|\n",
            "|   mean|               3.0|       NULL|      NULL|   NULL|             103.0|         NULL|      NULL|      NULL|           34886.4|    NULL|\n",
            "| stddev|1.5811388300841898|       NULL|      NULL|   NULL|1.5811388300841898|         NULL|      NULL|      NULL|30182.387070939236|    NULL|\n",
            "|    min|                 1|Subsector A|Category X|Brand 1|               101|Description 1|  Code 001|   Plant 1|             12564|  Active|\n",
            "|    max|                 5|Subsector C|Category Z|Brand 3|               105|Description 5|  Code 005|   Plant 5|             76445|Inactive|\n",
            "+-------+------------------+-----------+----------+-------+------------------+-------------+----------+----------+------------------+--------+\n",
            "\n"
          ]
        }
      ]
    },
    {
      "cell_type": "code",
      "source": [
        "from pyspark.sql.functions import avg"
      ],
      "metadata": {
        "id": "zhO2uxtU3FZa"
      },
      "execution_count": null,
      "outputs": []
    },
    {
      "cell_type": "code",
      "source": [],
      "metadata": {
        "id": "w45OpgME3R79"
      },
      "execution_count": null,
      "outputs": []
    }
  ]
}